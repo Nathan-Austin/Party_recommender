{
 "cells": [
  {
   "cell_type": "code",
   "execution_count": 1,
   "metadata": {},
   "outputs": [],
   "source": [
    "import asyncio\n",
    "from time import sleep\n",
    "from random import randint\n",
    "from pyppeteer import launch\n",
    "import json\n",
    "import subprocess\n"
   ]
  },
  {
   "cell_type": "code",
   "execution_count": 2,
   "metadata": {},
   "outputs": [
    {
     "data": {
      "text/plain": [
       "[]"
      ]
     },
     "execution_count": 2,
     "metadata": {},
     "output_type": "execute_result"
    }
   ],
   "source": [
    "events=[]\n",
    "\n",
    "async def main():\n",
    "    # launch chromium browser in the background\n",
    "    # open a new tab in the browser\n",
    "    browser = await launch({\"headless\": False}, executablePath= \"/usr/bin/google-chrome\")\n",
    "    page = await browser.newPage()\n",
    "    # add URL to a new page and then open it\n",
    "    await page.goto(\"https://ra.co/events/de/berlin\")\n",
    "    await page.setViewport({\"width\": 1600, \"height\": 900})\n",
    "    a_list = await page.querySelectorAll('a[data-test-id=\"event-listing-heading\"]')\n",
    "    links = ([await page.evaluate('(element) => element.href', a) for a in a_list])\n",
    "    print('found {} link(s)'.format(len(links)))\n",
    "    events.append(links)\n",
    "\n",
    "    for link in links:\n",
    "        await page.goto(link)\n",
    "        await asyncio.sleep(0.5)\n",
    "        b_list = await page.querySelectorAll('div[data-tracking-id=\"event-detail-lineup\"]>span>a')\n",
    "        print(b_list)\n",
    "        blinks= set([await page.evaluate('(element) =>element.href', b) for b in b_list])\n",
    "        \n",
    "        \n",
    "    def send_list(blinks):\n",
    "        list = blinks\n",
    "        return list\n",
    "               \n",
    "    print(blinks)\n",
    "           \n",
    "    sleep(randint(5, 10))\n",
    "    # close the browser\n",
    "    await browser.close()\n",
    "print(\"Starting...\")\n",
    "asyncio.get_event_loop().run_until_complete(main())\n",
    "events"
   ]
  },
  {
   "cell_type": "code",
   "execution_count": null,
   "metadata": {},
   "outputs": [],
   "source": []
  }
 ],
 "metadata": {
  "kernelspec": {
   "display_name": "Python 3.8.13 ('party')",
   "language": "python",
   "name": "python3"
  },
  "language_info": {
   "codemirror_mode": {
    "name": "ipython",
    "version": 3
   },
   "file_extension": ".py",
   "mimetype": "text/x-python",
   "name": "python",
   "nbconvert_exporter": "python",
   "pygments_lexer": "ipython3",
   "version": "3.8.13"
  },
  "orig_nbformat": 4,
  "vscode": {
   "interpreter": {
    "hash": "4a272a2761d512cd4a2316bd0fdf373ba2a8d21b9e57683994c18215aba7d72b"
   }
  }
 },
 "nbformat": 4,
 "nbformat_minor": 2
}
